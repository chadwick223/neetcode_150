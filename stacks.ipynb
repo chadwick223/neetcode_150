{
 "cells": [
  {
   "cell_type": "code",
   "execution_count": 6,
   "id": "d4d2d6fa",
   "metadata": {},
   "outputs": [],
   "source": [
    "class Node:\n",
    "    def __init__(self,value):\n",
    "        self.data=value\n",
    "        self.next=None\n",
    "\n",
    "class stack:\n",
    "    def __init__(self):\n",
    "        self.top=None\n",
    "    def isempty(self):\n",
    "        return self.top ==None\n",
    "    def push(self,value):\n",
    "\n",
    "        new_node=Node(value)\n",
    "        new_node.next=self.top\n",
    "        self.top = new_node\n",
    "\n",
    "    def pop(self):\n",
    "        if self.isempty():\n",
    "            return False\n",
    "        popped = self.top.data\n",
    "        self.top = self.top.next\n",
    "        return popped \n",
    "    def peek(self):\n",
    "        if self.isempty():\n",
    "            return False\n",
    "        return self.top.data\n",
    "    \n",
    "s=stack()\n",
    "s.push(5)\n",
    "\n",
    "        "
   ]
  },
  {
   "cell_type": "code",
   "execution_count": null,
   "id": "6757dbab",
   "metadata": {},
   "outputs": [
    {
     "data": {
      "text/plain": [
       "5"
      ]
     },
     "execution_count": 7,
     "metadata": {},
     "output_type": "execute_result"
    }
   ],
   "source": [
    "s.peek()"
   ]
  },
  {
   "cell_type": "code",
   "execution_count": 8,
   "id": "bc0af608",
   "metadata": {},
   "outputs": [],
   "source": [
    "s.push(6)\n",
    "s.push(7)\n",
    "s.push(8)"
   ]
  },
  {
   "cell_type": "code",
   "execution_count": 9,
   "id": "a58f7a9f",
   "metadata": {},
   "outputs": [
    {
     "data": {
      "text/plain": [
       "8"
      ]
     },
     "execution_count": 9,
     "metadata": {},
     "output_type": "execute_result"
    }
   ],
   "source": [
    "s.pop()"
   ]
  },
  {
   "cell_type": "code",
   "execution_count": null,
   "id": "8299e3eb",
   "metadata": {},
   "outputs": [],
   "source": [
    "#Design a stack class that supports the push, pop, top, and getMin operations.\n",
    "\n",
    "#MinStack() initializes the stack object.\n",
    "#void push(int val) pushes the element val onto the stack.\n",
    "#void pop() removes the element on the top of the stack.\n",
    "#int top() gets the top element of the stack.\n",
    "#int getMin() retrieves the minimum element in the stack.\n",
    "\n",
    "\n",
    "class MinStack:\n",
    "\n",
    "    def __init__(self):\n",
    "        self.stack=[]\n",
    "        self.minstack=[]\n",
    "\n",
    "    def isempty(self):\n",
    "        if (len(self.minstack)==0):\n",
    "            return True\n",
    "\n",
    "    def push(self, val: int) -> None:\n",
    "        self.stack.append(val)\n",
    "        if (len(self.minstack)==0):\n",
    "            self.minstack.append(val)\n",
    "        else:\n",
    "            self.minstack.append(min(val,self.minstack[-1]))\n",
    "        \n",
    "\n",
    "    def pop(self) -> None:\n",
    "        self.stack.pop()\n",
    "        self.minstack.pop()\n",
    "\n",
    "\n",
    "        \n",
    "\n",
    "    def top(self) -> int:\n",
    "        return self.stack[-1]\n",
    "        \n",
    "\n",
    "    def getMin(self) -> int:\n",
    "        return self.stack.minstack[-1]\n",
    "    \n",
    "        \n",
    "\n"
   ]
  },
  {
   "cell_type": "code",
   "execution_count": null,
   "id": "e8e7e372",
   "metadata": {},
   "outputs": [
    {
     "ename": "NameError",
     "evalue": "name 'List' is not defined",
     "output_type": "error",
     "traceback": [
      "\u001b[31m---------------------------------------------------------------------------\u001b[39m",
      "\u001b[31mNameError\u001b[39m                                 Traceback (most recent call last)",
      "\u001b[36mCell\u001b[39m\u001b[36m \u001b[39m\u001b[32mIn[2]\u001b[39m\u001b[32m, line 1\u001b[39m\n\u001b[32m----> \u001b[39m\u001b[32m1\u001b[39m \u001b[38;5;28;43;01mclass\u001b[39;49;00m\u001b[38;5;250;43m \u001b[39;49m\u001b[34;43;01mSolution\u001b[39;49;00m\u001b[43m:\u001b[49m\n\u001b[32m      2\u001b[39m \u001b[43m    \u001b[49m\u001b[38;5;28;43;01mdef\u001b[39;49;00m\u001b[38;5;250;43m \u001b[39;49m\u001b[34;43mevalRPN\u001b[39;49m\u001b[43m(\u001b[49m\u001b[38;5;28;43mself\u001b[39;49m\u001b[43m,\u001b[49m\u001b[43m \u001b[49m\u001b[43mtokens\u001b[49m\u001b[43m:\u001b[49m\u001b[43m \u001b[49m\u001b[43mList\u001b[49m\u001b[43m[\u001b[49m\u001b[38;5;28;43mstr\u001b[39;49m\u001b[43m]\u001b[49m\u001b[43m)\u001b[49m\u001b[43m \u001b[49m\u001b[43m-\u001b[49m\u001b[43m>\u001b[49m\u001b[43m \u001b[49m\u001b[38;5;28;43mint\u001b[39;49m\u001b[43m:\u001b[49m\n\u001b[32m      3\u001b[39m \u001b[43m        \u001b[49m\u001b[38;5;28;43mself\u001b[39;49m\u001b[43m.\u001b[49m\u001b[43mstack\u001b[49m\u001b[43m=\u001b[49m\u001b[43m[\u001b[49m\u001b[43m]\u001b[49m\n",
      "\u001b[36mCell\u001b[39m\u001b[36m \u001b[39m\u001b[32mIn[2]\u001b[39m\u001b[32m, line 2\u001b[39m, in \u001b[36mSolution\u001b[39m\u001b[34m()\u001b[39m\n\u001b[32m      1\u001b[39m \u001b[38;5;28;01mclass\u001b[39;00m\u001b[38;5;250m \u001b[39m\u001b[34;01mSolution\u001b[39;00m:\n\u001b[32m----> \u001b[39m\u001b[32m2\u001b[39m     \u001b[38;5;28;01mdef\u001b[39;00m\u001b[38;5;250m \u001b[39m\u001b[34mevalRPN\u001b[39m(\u001b[38;5;28mself\u001b[39m, tokens: \u001b[43mList\u001b[49m[\u001b[38;5;28mstr\u001b[39m]) -> \u001b[38;5;28mint\u001b[39m:\n\u001b[32m      3\u001b[39m         \u001b[38;5;28mself\u001b[39m.stack=[]\n\u001b[32m      4\u001b[39m         operators=[\u001b[33m'\u001b[39m\u001b[33m+\u001b[39m\u001b[33m'\u001b[39m,\u001b[33m'\u001b[39m\u001b[33m-\u001b[39m\u001b[33m'\u001b[39m,\u001b[33m'\u001b[39m\u001b[33m*\u001b[39m\u001b[33m'\u001b[39m,\u001b[33m'\u001b[39m\u001b[33m/\u001b[39m\u001b[33m'\u001b[39m]\n",
      "\u001b[31mNameError\u001b[39m: name 'List' is not defined"
     ]
    }
   ],
   "source": [
    "#Evaluate Reverse Polish Notation\n",
    "#Solved \n",
    "#You are given an array of strings tokens that represents a valid arithmetic expression in Reverse Polish Notation.\n",
    "\n",
    "#Return the integer that represents the evaluation of the expression.\n",
    "\n",
    "#The operands may be integers or the results of other operations.\n",
    "#The operators include '+', '-', '*', and '/'.\n",
    "#Assume that division between integers always truncates toward zero\n",
    "\n",
    "class Solution:\n",
    "    def evalRPN(self, tokens: List[str]) -> int:\n",
    "        self.stack=[]\n",
    "        operators=['+','-','*','/']\n",
    "        for i in tokens:\n",
    "            if i not in operators:\n",
    "                self.stack.append(int(i))\n",
    "            else:\n",
    "                b=self.stack.pop()\n",
    "                a=self.stack.pop()\n",
    "                if i == \"+\":\n",
    "                    self.stack.append(a+b)\n",
    "                elif i==\"-\":\n",
    "                    self.stack.append(a-b)\n",
    "                elif i==\"*\":\n",
    "                    self.stack.append(a*b)\n",
    "                elif i ==\"/\":\n",
    "                    self.stack.append(int(a/b))\n",
    "        return self.stack[0]\n"
   ]
  },
  {
   "cell_type": "code",
   "execution_count": null,
   "id": "b3d9cd7a",
   "metadata": {},
   "outputs": [],
   "source": [
    "#You are given an integer n. Return all well-formed parentheses strings that you can generate with n pairs of parentheses.\n",
    "class Solution:\n",
    "    def generateParenthesis(self, n: int) -> List[str]:\n",
    "        stack=[]\n",
    "        res=[]\n",
    "        def backtrack(openN, closedN):\n",
    "            if openN==closedN==n:\n",
    "                combination=\"\"\n",
    "                for char in stack:\n",
    "                    combination +=char\n",
    "                res.append(combination)\n",
    "                return\n",
    "            if openN < n:\n",
    "                stack.append(\"(\")\n",
    "                backtrack(openN +1,closedN)\n",
    "                stack.pop()\n",
    "            if closedN <openN:\n",
    "                stack.append(\")\")\n",
    "                backtrack(openN,closedN+1)\n",
    "                stack.pop()\n",
    "        backtrack(0,0)\n",
    "        return res"
   ]
  },
  {
   "cell_type": "code",
   "execution_count": null,
   "id": "e46b6bdc",
   "metadata": {},
   "outputs": [],
   "source": [
    "#You are given an array of integers temperatures where temperatures[i] represents the daily temperatures \n",
    "#on the ith day.Return an array result where result[i] is the number of days after the ith day before a \n",
    "# warmer temperature appears on a future day. If there is no day in the future where a warmer temperature \n",
    "# will appear for the ith day, set result[i] to 0 instead.\n",
    "\n",
    "#Input: temperatures = [30,38,30,36,35,40,28]\n",
    "#Output: [1,4,1,2,1,0,0]\n",
    "\n",
    "class Solution:\n",
    "    def dailyTemperatures(self, temperatures: List[int]) -> List[int]:\n",
    "        res=[0]*len(temperatures)\n",
    "        stacks=[] #pairs [index,temp]\n",
    "        for i,t in enumerate(temperatures):\n",
    "            while stacks and t > stacks[-1][0]:\n",
    "                stackt,stackind=stacks.pop()\n",
    "                res[stackind]=(i-stackind)\n",
    "            stacks.append(t,i)\n",
    "        return res"
   ]
  }
 ],
 "metadata": {
  "kernelspec": {
   "display_name": "Python 3",
   "language": "python",
   "name": "python3"
  },
  "language_info": {
   "codemirror_mode": {
    "name": "ipython",
    "version": 3
   },
   "file_extension": ".py",
   "mimetype": "text/x-python",
   "name": "python",
   "nbconvert_exporter": "python",
   "pygments_lexer": "ipython3",
   "version": "3.11.9"
  }
 },
 "nbformat": 4,
 "nbformat_minor": 5
}
