{
 "cells": [
  {
   "cell_type": "code",
   "execution_count": 1,
   "id": "f378c859",
   "metadata": {},
   "outputs": [
    {
     "name": "stdout",
     "output_type": "stream",
     "text": [
      "[3, 4, 7, 8]\n"
     ]
    }
   ],
   "source": [
    "def bubble_sort(arr):\n",
    "    for i in range(len(arr)-1):\n",
    "        for j in range(len(arr)-1-i):\n",
    "            if arr[j]<arr[j+1]:\n",
    "                break\n",
    "            else:\n",
    "                arr[j],arr[j+1]=arr[j+1],arr[j]\n",
    "    print(arr)\n",
    "\n",
    "            \n",
    "            \n",
    "\n",
    "a=[4,3,7,8]\n",
    "bubble_sort(a)"
   ]
  },
  {
   "cell_type": "code",
   "execution_count": 11,
   "id": "b6a395fb",
   "metadata": {},
   "outputs": [],
   "source": [
    "class Dictionary:\n",
    "    def __init__(self,size):\n",
    "        self.size=size\n",
    "        self.slots=[None]*self.size\n",
    "        self.data=[None]*self.size\n",
    "    def put(self,key,value):\n",
    "\n",
    "        hash_value=self.hash_function(key)\n",
    "\n",
    "        if self.slots[hash_value]==None:\n",
    "            self.slots[hash_value]=key\n",
    "            self.data[hash_value]=value\n",
    "        else:\n",
    "            if self.slots[hash_value]==key:\n",
    "                self.data[hash_value]=value\n",
    "            else:\n",
    "                new_hash_value=self.rehash(hash_value)\n",
    "\n",
    "                while self.slots[new_hash_value]!=None and self.slots[new_hash_value]!=key:\n",
    "\n",
    "                    new_hash_value=self.rehash(new_hash_value)\n",
    "                if self.slots[new_hash_value]==None:\n",
    "                    self.slots[new_hash_value]=key\n",
    "                    self.data[new_hash_value]=value\n",
    "                else:\n",
    "                    self.data[new_hash_value]=value\n",
    "    def __setitem__(self,key,value):\n",
    "        self.put(key,value)\n",
    "    def __getitem__(self,key):\n",
    "        return self.get(key)\n",
    "    def get(self,key):\n",
    "        start_position=self.hash_function(key)\n",
    "        current_position=start_position\n",
    "        while self.slots[current_position]!=None:\n",
    "            if self.slots[current_position]==key:\n",
    "                return self.data[current_position]\n",
    "            \n",
    "            current_position=self.rehash(current_position)\n",
    "            if current_position==start_position:\n",
    "                return \"Not found\"\n",
    "            \n",
    "        return \"Nonw wala Not Found\"\n",
    "\n",
    "\n",
    "    def rehash(self,old_hash):\n",
    "        return (old_hash+1)%self.size  \n",
    "\n",
    "    def hash_function(self,key):\n",
    "        return abs(hash(key))%self.size"
   ]
  },
  {
   "cell_type": "code",
   "execution_count": 12,
   "id": "657292a6",
   "metadata": {},
   "outputs": [],
   "source": [
    "D1=Dictionary(3)"
   ]
  },
  {
   "cell_type": "code",
   "execution_count": 13,
   "id": "52cc85de",
   "metadata": {},
   "outputs": [
    {
     "name": "stdout",
     "output_type": "stream",
     "text": [
      "[None, None, None]\n",
      "[None, None, None]\n"
     ]
    }
   ],
   "source": [
    "print(D1.slots)\n",
    "print(D1.data)"
   ]
  },
  {
   "cell_type": "code",
   "execution_count": 14,
   "id": "28ebdab4",
   "metadata": {},
   "outputs": [],
   "source": [
    "D1['python']=56"
   ]
  },
  {
   "cell_type": "code",
   "execution_count": 15,
   "id": "9514d18c",
   "metadata": {},
   "outputs": [],
   "source": [
    "D1['java']=100"
   ]
  },
  {
   "cell_type": "code",
   "execution_count": 40,
   "id": "a06329bf",
   "metadata": {},
   "outputs": [
    {
     "data": {
      "text/plain": [
       "'Not Found'"
      ]
     },
     "execution_count": 40,
     "metadata": {},
     "output_type": "execute_result"
    }
   ],
   "source": [
    "D1.get(\"php\")"
   ]
  },
  {
   "cell_type": "code",
   "execution_count": null,
   "id": "18d4a431",
   "metadata": {},
   "outputs": [
    {
     "name": "stdout",
     "output_type": "stream",
     "text": [
      "100\n"
     ]
    }
   ],
   "source": [
    "print(D1['java'])"
   ]
  },
  {
   "cell_type": "code",
   "execution_count": null,
   "id": "9f4159ba",
   "metadata": {},
   "outputs": [],
   "source": [
    "#Given an integer array nums, return true if any value appears more than once in the array, otherwise return false.\n",
    "\n",
    "class Solution:\n",
    "    def hasDuplicate(self, nums: List[int]) -> bool:\n",
    "        new={}\n",
    "        for i in range(len(nums)):\n",
    "            new[nums[i]]=1+new.get(nums[i],0)\n",
    "            if new[nums[i]]>1:\n",
    "                return True\n",
    "        return False      "
   ]
  },
  {
   "cell_type": "code",
   "execution_count": null,
   "id": "2de63eaa",
   "metadata": {},
   "outputs": [],
   "source": [
    "#Given two strings s and t, return true if the two strings are anagrams of each other, otherwise return false.\n",
    "\n",
    "\n",
    "\n",
    "class Solution:\n",
    "    def isAnagram(self, s: str, t: str) -> bool:\n",
    "        if (len(s)) !=(len(t)):\n",
    "            return False\n",
    "        else:\n",
    "            count1={}\n",
    "            count2={}\n",
    "        for i in range (len(s)):\n",
    "            count1[s[i]]=1+count1.get(s[i],0)\n",
    "            count2[t[i]]=1+count2.get(t[i],0)\n",
    "\n",
    "        for c in count1:\n",
    "            if count1[c]!=count2.get(c,0):\n",
    "                return False\n",
    "        return True\n",
    "        \n",
    "        \n",
    "\n",
    "\n",
    "\n",
    "        \n",
    "\n",
    "            \n",
    "\n"
   ]
  },
  {
   "cell_type": "code",
   "execution_count": null,
   "id": "386795c7",
   "metadata": {},
   "outputs": [],
   "source": [
    "#Given an array of integers nums and an integer target, return the indices i and j such that nums[i] + nums[j] == target and i != j.\n",
    "#You may assume that every input has exactly one pair of indices i and j that satisfy the condition.Return the answer with the smaller index first.\n",
    "#nums = [3,4,5,6], target = 7\n",
    "#Output: [0,1]\n",
    "class Solution:\n",
    "    def twoSum(self, nums: List[int], target: int) -> List[int]:\n",
    "        prevmap={}\n",
    "        for i in range(len(nums)):\n",
    "            diff=target-nums[i]\n",
    "            if diff in prevmap:\n",
    "                return[prevmap.get(diff),i]\n",
    "            prevmap[nums[i]]=i\n",
    "        return"
   ]
  },
  {
   "cell_type": "code",
   "execution_count": null,
   "id": "24d3fe5f",
   "metadata": {},
   "outputs": [],
   "source": []
  }
 ],
 "metadata": {
  "kernelspec": {
   "display_name": ".venv",
   "language": "python",
   "name": "python3"
  },
  "language_info": {
   "codemirror_mode": {
    "name": "ipython",
    "version": 3
   },
   "file_extension": ".py",
   "mimetype": "text/x-python",
   "name": "python",
   "nbconvert_exporter": "python",
   "pygments_lexer": "ipython3",
   "version": "3.11.9"
  }
 },
 "nbformat": 4,
 "nbformat_minor": 5
}
