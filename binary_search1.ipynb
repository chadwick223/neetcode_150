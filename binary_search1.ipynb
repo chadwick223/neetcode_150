{
 "cells": [
  {
   "cell_type": "code",
   "execution_count": null,
   "id": "15057752",
   "metadata": {},
   "outputs": [],
   "source": [
    "#binary search\n",
    "class Solution:\n",
    "    def search(self, nums: List[int], target: int) -> int:\n",
    "        l=0\n",
    "        r=len(nums)-1\n",
    "        while l<=r:\n",
    "            m=(l+r)//2\n",
    "            if nums[m]>target:\n",
    "                r=m-1\n",
    "            elif nums[m]<target:\n",
    "                l=m+1\n",
    "            else:\n",
    "                return m\n",
    "        return -1"
   ]
  },
  {
   "cell_type": "code",
   "execution_count": null,
   "id": "0277fe31",
   "metadata": {},
   "outputs": [],
   "source": [
    "# binary search in rows and columns or 2d matrix \n",
    "class Solution:\n",
    "    def searchMatrix(self, matrix: List[List[int]], target: int) -> bool:\n",
    "        ROW=len(matrix)\n",
    "        COL=len(matrix[0])\n",
    "        top=0\n",
    "        bot=ROW-1\n",
    "\n",
    "        while top <=bot:\n",
    "            row=(top+bot)//2\n",
    "            if target >matrix[row][-1]:\n",
    "                top=row+1\n",
    "            elif target < matrix[row][0]:\n",
    "                bot=row-1\n",
    "            else:\n",
    "                break\n",
    "        if not(top<=bot):\n",
    "            return False\n",
    "        \n",
    "        l=0\n",
    "        r=COL-1\n",
    "        while l<=r:\n",
    "            m=(l+r)//2\n",
    "            if target > matrix[row][m]:\n",
    "                l=m+1\n",
    "\n",
    "            elif target <matrix[row][m]:\n",
    "                r=m-1\n",
    "            else:\n",
    "                return True\n",
    "        return False\n"
   ]
  },
  {
   "cell_type": "code",
   "execution_count": null,
   "id": "3ddbee89",
   "metadata": {},
   "outputs": [],
   "source": [
    "#binary search when caluculating minmum rate of something\n",
    " class Solution:\n",
    "    def minEatingSpeed(self, piles: List[int], h: int) -> int:\n",
    "        l=1\n",
    "        r=max(piles)\n",
    "        res=r\n",
    "\n",
    "        while l<=r:\n",
    "            k=(l+r)//2\n",
    "            hours=0\n",
    "\n",
    "            for p in piles:\n",
    "                hours=hours+math.ceil(p/k)\n",
    "\n",
    "            if hours <=h:\n",
    "                res=min(res,k)\n",
    "                r=k-1\n",
    "            else:\n",
    "                l=k+1\n",
    "        return res\n",
    "\n"
   ]
  }
 ],
 "metadata": {
  "language_info": {
   "name": "python"
  }
 },
 "nbformat": 4,
 "nbformat_minor": 5
}
